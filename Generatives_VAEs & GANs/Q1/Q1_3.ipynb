{
  "nbformat": 4,
  "nbformat_minor": 0,
  "metadata": {
    "colab": {
      "name": "Q1_3.ipynb",
      "version": "0.3.2",
      "provenance": [],
      "collapsed_sections": []
    },
    "language_info": {
      "codemirror_mode": {
        "name": "ipython",
        "version": 3
      },
      "file_extension": ".py",
      "mimetype": "text/x-python",
      "name": "python",
      "nbconvert_exporter": "python",
      "pygments_lexer": "ipython3",
      "version": "3.7.1"
    },
    "kernelspec": {
      "display_name": "Python 3",
      "language": "python",
      "name": "python3"
    },
    "accelerator": "GPU"
  },
  "cells": [
    {
      "metadata": {
        "colab_type": "code",
        "id": "mAxBj2nDelo6",
        "colab": {}
      },
      "cell_type": "code",
      "source": [
        "#!/usr/bin/env python2\n",
        "# -*- coding: utf-8 -*-\n",
        "\"\"\"\n",
        "Created on Sat Mar 23 13:20:15 2019\n",
        "\n",
        "@author: chin-weihuang\n",
        "\"\"\"\n",
        "\n",
        "\n",
        "from __future__ import print_function\n",
        "import numpy as np\n",
        "import torch \n",
        "import torch.nn as nn\n",
        "import torch.optim as optim\n",
        "import matplotlib.pyplot as plt\n",
        "import torch.nn.functional as F\n",
        "import samplers\n",
        "import jsloss\n",
        "from jsloss import Discriminator as Discriminator\n",
        "from jsloss import JSD as JSD\n",
        "from wgan_gp_code import Critic, WGAN_GPloss"
      ],
      "execution_count": 0,
      "outputs": []
    },
    {
      "metadata": {
        "colab_type": "code",
        "id": "0BDQlSMSgK59",
        "outputId": "20d61a48-a10c-4a2c-fffc-4b6eda3b1e46",
        "colab": {
          "base_uri": "https://localhost:8080/",
          "height": 301
        }
      },
      "cell_type": "code",
      "source": [
        "#Question 1.3\n",
        "output_list = []\n",
        "epoch_count_js = 500\n",
        "epoch_count_wgan = 12000\n",
        "\n",
        "#loop over the values between -1 and 1 for (phi, U(0,1))\n",
        "for phi in np.linspace(-1,1,21):\n",
        "  jsd = JSD(x_val=phi, minibatch_size=512, epoch_count=epoch_count_js, learning_rate=1e-3, \\\n",
        "      input_size=2, hidden_size=10, output_size=1,  \\\n",
        "      real_sampler = samplers.distribution1, \\\n",
        "      fake_sampler = samplers.distribution1  \\\n",
        "      )\n",
        "  output_list.append(jsd)\n",
        "  \n",
        "  \n",
        "wgan_output_list = []\n",
        "losses = []\n",
        "for phi in np.linspace(-1,1,21):\n",
        "  wgan_gp = WGAN_GPloss(x_val=phi, minibatch_size=512, epoch_count=epoch_count_wgan, learning_rate=1e-3, losses = losses,\\\n",
        "      input_size=2, hidden_size=10, output_size=1,  \\\n",
        "      real_sampler = samplers.distribution1, \\\n",
        "      fake_sampler = samplers.distribution1  \\\n",
        "      )\n",
        "  wgan_output_list.append(wgan_gp)\n",
        "\n",
        "torch.stack(output_list)\n",
        "plt.figure()\n",
        "plt.scatter(np.linspace(-1,1,21), \\\n",
        "            torch.stack(output_list).cpu().detach().numpy(), label = \"Jensen-Shannon Divergence\")\n",
        "\n",
        "plt.scatter(np.linspace(-1,1,21), \\\n",
        "            torch.stack(wgan_output_list).cpu().detach().numpy(), label = \"WGAN_GP distance\")\n",
        "\n",
        "plt.xlabel('Values of $\\phi \\in [-1,1]$ with intervals of 0.1 ' )\n",
        "plt.ylabel('JS Divergence')\n",
        "plt.title('Jensen Shanon divergence between (0,U[0,1]) and ($\\phi$,U[0,1])')\n",
        "plt.legend()\n",
        "plt.show()"
      ],
      "execution_count": 0,
      "outputs": [
        {
          "output_type": "display_data",
          "data": {
            "image/png": "[encoded data removed]",
            "text/plain": [
              "<Figure size 432x288 with 1 Axes>"
            ]
          },
          "metadata": {
            "tags": []
          }
        }
      ]
    },
    {
      "metadata": {
        "colab_type": "text",
        "id": "E72UBjVLoxmS"
      },
      "cell_type": "markdown",
      "source": [
        "The Jensen-Shannon Divergence at $ \\phi = 0$ is 0 (overlayed with WGAN_GP distance)"
      ]
    }
  ]
}