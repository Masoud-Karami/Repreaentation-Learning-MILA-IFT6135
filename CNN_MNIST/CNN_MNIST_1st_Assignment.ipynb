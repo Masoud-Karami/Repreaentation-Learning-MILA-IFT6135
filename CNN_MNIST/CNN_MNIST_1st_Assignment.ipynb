{
 "cells": [
  {
   "cell_type": "code",
   "execution_count": 1,
   "metadata": {},
   "outputs": [
    {
     "name": "stderr",
     "output_type": "stream",
     "text": [
      "Using TensorFlow backend.\n"
     ]
    }
   ],
   "source": [
    "import numpy as np\n",
    "import tensorflow as tf\n",
    "import numpy as np\n",
    "import keras\n",
    "from keras.models import Sequential\n",
    "from keras.layers import Dense, Flatten\n",
    "from keras.layers import Conv2D, MaxPooling2D\n",
    "from keras.optimizers import SGD\n",
    "from keras.callbacks import EarlyStopping, ReduceLROnPlateau\n",
    "import matplotlib.pyplot as plt"
   ]
  },
  {
   "cell_type": "code",
   "execution_count": 2,
   "metadata": {},
   "outputs": [
    {
     "name": "stdout",
     "output_type": "stream",
     "text": [
      "Downloading data from https://storage.googleapis.com/tensorflow/tf-keras-datasets/mnist.npz\n",
      "11493376/11490434 [==============================] - 3s 0us/step\n",
      "(60000, 28, 28)\n",
      "(10000, 28, 28)\n"
     ]
    }
   ],
   "source": [
    "dim= 28\n",
    "nclasses = 10\n",
    "epochs = 13\n",
    "batch_size = 100\n",
    "((xtrain, ytrain),\n",
    " (xval, yval)) = tf.keras.datasets.mnist.load_data()\n",
    "xtrain = xtrain/np.float32(255)\n",
    "ytrain = ytrain.astype(np.int32)  # not required\n",
    "xval = xval/np.float32(255)\n",
    "yval = yval.astype(np.int32)  \n",
    "print(xtrain.shape)\n",
    "print(xval.shape)\n"
   ]
  },
  {
   "cell_type": "code",
   "execution_count": 3,
   "metadata": {},
   "outputs": [],
   "source": [
    "xtrain = xtrain.reshape(xtrain.shape[0], dim, dim, 1)\n",
    "xval = xval.reshape(xval.shape[0], dim, dim, 1)\n",
    "input_shape = (dim, dim, 1)\n"
   ]
  },
  {
   "cell_type": "code",
   "execution_count": 4,
   "metadata": {},
   "outputs": [],
   "source": [
    "#convert class vectors to binary class matrices - this is for use in the categorical_crossentropy loss below\n",
    "y_train = keras.utils.to_categorical(ytrain, nclasses)\n",
    "y_val = keras.utils.to_categorical(yval, nclasses)\n",
    "#print (y_train[10000])"
   ]
  },
  {
   "cell_type": "code",
   "execution_count": 18,
   "metadata": {},
   "outputs": [
    {
     "name": "stdout",
     "output_type": "stream",
     "text": [
      "Train on 60000 samples, validate on 10000 samples\n",
      "Epoch 1/13\n",
      "60000/60000 [==============================] - 48s 793us/step - loss: 0.8366 - acc: 0.7794 - val_loss: 0.2731 - val_acc: 0.9212\n",
      "Epoch 2/13\n",
      "60000/60000 [==============================] - 47s 778us/step - loss: 0.2326 - acc: 0.9314 - val_loss: 0.1768 - val_acc: 0.9454\n",
      "Epoch 3/13\n",
      "60000/60000 [==============================] - 48s 793us/step - loss: 0.1613 - acc: 0.9527 - val_loss: 0.1267 - val_acc: 0.9618\n",
      "Epoch 4/13\n",
      "60000/60000 [==============================] - 50s 831us/step - loss: 0.1245 - acc: 0.9638 - val_loss: 0.1006 - val_acc: 0.9683\n",
      "Epoch 5/13\n",
      "60000/60000 [==============================] - 48s 799us/step - loss: 0.1041 - acc: 0.9693 - val_loss: 0.0827 - val_acc: 0.9763\n",
      "Epoch 6/13\n",
      "60000/60000 [==============================] - 48s 803us/step - loss: 0.0898 - acc: 0.9734 - val_loss: 0.0729 - val_acc: 0.9783\n",
      "Epoch 7/13\n",
      "60000/60000 [==============================] - 49s 824us/step - loss: 0.0795 - acc: 0.9759 - val_loss: 0.0684 - val_acc: 0.9803\n",
      "Epoch 8/13\n",
      "60000/60000 [==============================] - 47s 789us/step - loss: 0.0719 - acc: 0.9783 - val_loss: 0.0601 - val_acc: 0.9807\n",
      "Epoch 9/13\n",
      "60000/60000 [==============================] - 47s 787us/step - loss: 0.0662 - acc: 0.9794 - val_loss: 0.0627 - val_acc: 0.9811\n",
      "Epoch 10/13\n",
      "60000/60000 [==============================] - 51s 844us/step - loss: 0.0607 - acc: 0.9816 - val_loss: 0.0566 - val_acc: 0.9816\n",
      "Epoch 11/13\n",
      "60000/60000 [==============================] - 48s 805us/step - loss: 0.0569 - acc: 0.9823 - val_loss: 0.0526 - val_acc: 0.9839\n",
      "Epoch 12/13\n",
      "60000/60000 [==============================] - 48s 804us/step - loss: 0.0528 - acc: 0.9833 - val_loss: 0.0499 - val_acc: 0.9852\n",
      "Epoch 13/13\n",
      "60000/60000 [==============================] - 49s 812us/step - loss: 0.0495 - acc: 0.9846 - val_loss: 0.0443 - val_acc: 0.9859\n",
      "Test loss: 0.044300862735463305\n",
      "Test accuracy: 0.9859\n",
      "dict_keys(['val_loss', 'val_acc', 'loss', 'acc'])\n"
     ]
    },
    {
     "data": {
      "image/png": "[encoded data removed]",
      "text/plain": [
       "<Figure size 432x288 with 1 Axes>"
      ]
     },
     "metadata": {
      "needs_background": "light"
     },
     "output_type": "display_data"
    },
    {
     "data": {
      "image/png": "[encoded data removed]",
      "text/plain": [
       "<Figure size 432x288 with 1 Axes>"
      ]
     },
     "metadata": {
      "needs_background": "light"
     },
     "output_type": "display_data"
    }
   ],
   "source": [
    "model = Sequential()\n",
    "model.add(Conv2D(32, kernel_size=(5, 5), strides=(1, 1),\n",
    "                 activation='relu',\n",
    "                 input_shape=(dim, dim, 1)))\n",
    "model.add(MaxPooling2D(pool_size=(2, 2), strides=(2, 2)))\n",
    "model.add(Conv2D(64, (5, 5), activation='relu'))\n",
    "model.add(MaxPooling2D(pool_size=(2, 2)))\n",
    "model.add(Flatten())\n",
    "model.add(Dense(1000, activation='relu'))\n",
    "model.add(Dense(nclasses, activation='softmax'))\n",
    "\n",
    "model.compile(loss=keras.losses.categorical_crossentropy,\n",
    "              optimizer=keras.optimizers.SGD(),\n",
    "              metrics=['accuracy'])\n",
    "\n",
    "\n",
    "history = model.fit(xtrain, y_train,\n",
    "          batch_size=batch_size,\n",
    "          epochs=epochs,\n",
    "          verbose=1,\n",
    "          validation_data=(xval, y_val))\n",
    "score = model.evaluate(xval, y_val, verbose=0)\n",
    "print('Test loss:', score[0])\n",
    "print('Test accuracy:', score[1])\n",
    "print(history.history.keys())\n",
    "# summarize history for accuracy\n",
    "plt.plot(history.history['acc'])\n",
    "plt.plot(history.history['val_acc'])\n",
    "plt.title('model accuracy')\n",
    "plt.ylabel('accuracy')\n",
    "plt.xlabel('epoch')\n",
    "plt.legend(['train', 'test'], loc='upper left')\n",
    "plt.show()\n",
    "# summarize history for loss\n",
    "plt.plot(history.history['loss'])\n",
    "plt.plot(history.history['val_loss'])\n",
    "plt.title('model loss')\n",
    "plt.ylabel('loss')\n",
    "plt.xlabel('epoch')\n",
    "plt.legend(['train', 'test'], loc='upper left')\n",
    "#plt.show()\n",
    "#plt.plot(range(1, 14), history.acc)\n",
    "#plt.xlabel('Epochs')\n",
    "#plt.ylabel('Accuracy')\n",
    "plt.show()"
   ]
  },
  {
   "cell_type": "code",
   "execution_count": 17,
   "metadata": {},
   "outputs": [
    {
     "data": {
      "text/plain": [
       "1087106"
      ]
     },
     "execution_count": 17,
     "metadata": {},
     "output_type": "execute_result"
    }
   ],
   "source": [
    "model.count_params()"
   ]
  },
  {
   "cell_type": "code",
   "execution_count": null,
   "metadata": {},
   "outputs": [],
   "source": []
  }
 ],
 "metadata": {
  "kernelspec": {
   "display_name": "Python 3",
   "language": "python",
   "name": "python3"
  },
  "language_info": {
   "codemirror_mode": {
    "name": "ipython",
    "version": 3
   },
   "file_extension": ".py",
   "mimetype": "text/x-python",
   "name": "python",
   "nbconvert_exporter": "python",
   "pygments_lexer": "ipython3",
   "version": "3.6.8"
  }
 },
 "nbformat": 4,
 "nbformat_minor": 2
}
